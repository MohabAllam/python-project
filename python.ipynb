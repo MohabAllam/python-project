{
 "cells": [
  {
   "cell_type": "markdown",
   "id": "41df0f0d",
   "metadata": {},
   "source": [
    "# Calculator Project"
   ]
  },
  {
   "cell_type": "markdown",
   "id": "6357488e",
   "metadata": {},
   "source": [
    "### Summation Function"
   ]
  },
  {
   "cell_type": "code",
   "execution_count": null,
   "id": "b6c6eb05",
   "metadata": {},
   "outputs": [],
   "source": [
    "# Write code here\n",
    "def summ(a, b):\n",
    "\n",
    "    return a + b"
   ]
  },
  {
   "cell_type": "markdown",
   "id": "671dc28c",
   "metadata": {},
   "source": [
    "### Subtract Function"
   ]
  },
  {
   "cell_type": "code",
   "execution_count": null,
   "id": "8ddc1bef",
   "metadata": {},
   "outputs": [],
   "source": [
    "# Write code here\n"
   ]
  }
 ],
 "metadata": {
  "language_info": {
   "name": "python"
  }
 },
 "nbformat": 4,
 "nbformat_minor": 5
}
