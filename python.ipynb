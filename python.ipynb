{
 "cells": [
  {
   "cell_type": "markdown",
   "id": "41df0f0d",
   "metadata": {},
   "source": [
    "# Calculator Project"
   ]
  },
  {
   "cell_type": "markdown",
   "id": "6357488e",
   "metadata": {},
   "source": [
    "### Summation Function"
   ]
  },
  {
   "cell_type": "code",
   "execution_count": null,
   "id": "b6c6eb05",
   "metadata": {},
   "outputs": [],
   "source": [
    "# Write code here\n",
    "def summ(x, y):\n",
    "\n",
    "    return x + y"
   ]
  },
  {
   "cell_type": "markdown",
   "id": "671dc28c",
   "metadata": {},
   "source": [
    "### Subtract Function"
   ]
  },
  {
   "cell_type": "code",
   "execution_count": null,
   "id": "8ddc1bef",
   "metadata": {},
   "outputs": [],
   "source": [
    "# Write code here\n",
    "def sub(x, y):\n",
    "\n",
    "    return x + y"
   ]
  },
  {
   "cell_type": "markdown",
   "id": "811ed2ff",
   "metadata": {},
   "source": [
    "### Mult Function"
   ]
  },
  {
   "cell_type": "code",
   "execution_count": null,
   "id": "2a20ba23",
   "metadata": {},
   "outputs": [],
   "source": [
    "# Write code here\n",
    "def mult(x, y):\n",
    "\n",
    "    return x * y"
   ]
  }
 ],
 "metadata": {
  "language_info": {
   "name": "python"
  }
 },
 "nbformat": 4,
 "nbformat_minor": 5
}
